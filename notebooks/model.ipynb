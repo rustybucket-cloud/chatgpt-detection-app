{
 "cells": [
  {
   "cell_type": "code",
   "execution_count": 1,
   "metadata": {},
   "outputs": [],
   "source": [
    "import keras\n",
    "import tensorflow as tf\n",
    "from keras.layers import Dense, Dropout, Flatten, TextVectorization, GlobalMaxPool1D, Conv1D\n",
    "from keras.utils import to_categorical\n",
    "from keras.preprocessing.text import Tokenizer\n",
    "from keras.preprocessing.sequence import pad_sequences\n",
    "from keras.callbacks import History \n",
    "history = History()"
   ]
  },
  {
   "cell_type": "code",
   "execution_count": 2,
   "metadata": {},
   "outputs": [],
   "source": [
    "import pandas as pd\n",
    "\n",
    "df = pd.read_csv('../data/data.csv', delimiter='|')"
   ]
  },
  {
   "cell_type": "code",
   "execution_count": 3,
   "metadata": {},
   "outputs": [],
   "source": [
    "from sklearn.model_selection import train_test_split\n",
    "\n",
    "df['label'] = df['category'].apply(lambda x: 1 if x == 'ChatGPT' else 0)\n",
    "\n",
    "y = df['label'].values\n",
    "df[\"text\"] = df['text'].apply(lambda x: str(x))\n",
    "X = df['text'].values\n",
    "\n",
    "X_train, X_test, y_train, y_test = train_test_split(X, y, test_size=0.2, random_state=42)"
   ]
  },
  {
   "cell_type": "code",
   "execution_count": 4,
   "metadata": {},
   "outputs": [],
   "source": [
    "max_features = 5000\n",
    "max_len = 100\n",
    "vectorize_layer = TextVectorization(\n",
    "  max_tokens=max_features,\n",
    "  output_mode='int',\n",
    "  output_sequence_length=max_len)"
   ]
  },
  {
   "cell_type": "code",
   "execution_count": null,
   "metadata": {},
   "outputs": [],
   "source": [
    "text_dataset = tf.data.Dataset.from_tensor_slices(X_train)\n",
    "vectorize_layer.adapt(text_dataset.batch(64))"
   ]
  },
  {
   "cell_type": "code",
   "execution_count": 6,
   "metadata": {},
   "outputs": [],
   "source": [
    "model = tf.keras.models.Sequential()\n",
    "model.add(tf.keras.Input(shape=(1,), dtype=tf.string))\n",
    "model.add(vectorize_layer)\n",
    "\n",
    "model.add(tf.keras.layers.Embedding(max_features + 1, 128))\n",
    "\n",
    "# Convulutional layer\n",
    "model.add(Conv1D(128, kernel_size=(3), activation='relu'))\n",
    "model.add(GlobalMaxPool1D())\n",
    "model.add(Flatten())\n",
    "\n",
    "# Fully connected layers\n",
    "model.add(Dense(32, activation='relu'))\n",
    "model.add(Dropout(0.5))\n",
    "model.add(Dense(16, activation='relu'))\n",
    "model.add(Dense(1, activation='sigmoid'))\n"
   ]
  },
  {
   "cell_type": "code",
   "execution_count": 7,
   "metadata": {},
   "outputs": [],
   "source": [
    "model.compile(loss='binary_crossentropy', optimizer='adam', metrics=['accuracy'])"
   ]
  },
  {
   "cell_type": "code",
   "execution_count": 8,
   "metadata": {},
   "outputs": [
    {
     "name": "stdout",
     "output_type": "stream",
     "text": [
      "Epoch 1/50\n",
      "530/530 [==============================] - 7s 12ms/step - loss: 0.2282 - accuracy: 0.9110\n",
      "Epoch 2/50\n",
      "530/530 [==============================] - 6s 12ms/step - loss: 0.0850 - accuracy: 0.9736\n",
      "Epoch 3/50\n",
      "530/530 [==============================] - 7s 12ms/step - loss: 0.0441 - accuracy: 0.9887\n",
      "Epoch 4/50\n",
      "530/530 [==============================] - 7s 12ms/step - loss: 0.0307 - accuracy: 0.9912\n",
      "Epoch 5/50\n",
      "530/530 [==============================] - 7s 12ms/step - loss: 0.0161 - accuracy: 0.9954\n",
      "Epoch 6/50\n",
      "530/530 [==============================] - 7s 13ms/step - loss: 0.0152 - accuracy: 0.9948\n",
      "Epoch 7/50\n",
      "530/530 [==============================] - 7s 12ms/step - loss: 0.0108 - accuracy: 0.9968\n",
      "Epoch 8/50\n",
      "530/530 [==============================] - 6s 12ms/step - loss: 0.0110 - accuracy: 0.9963\n",
      "Epoch 9/50\n",
      "530/530 [==============================] - 7s 12ms/step - loss: 0.0078 - accuracy: 0.9974\n",
      "Epoch 10/50\n",
      "530/530 [==============================] - 7s 12ms/step - loss: 0.0070 - accuracy: 0.9975\n",
      "Epoch 11/50\n",
      "530/530 [==============================] - 7s 12ms/step - loss: 0.0069 - accuracy: 0.9978\n",
      "Epoch 12/50\n",
      "530/530 [==============================] - 7s 13ms/step - loss: 0.0052 - accuracy: 0.9987\n",
      "Epoch 13/50\n",
      "530/530 [==============================] - 7s 12ms/step - loss: 0.0049 - accuracy: 0.9985\n",
      "Epoch 14/50\n",
      "530/530 [==============================] - 7s 13ms/step - loss: 0.0049 - accuracy: 0.9983\n",
      "Epoch 15/50\n",
      "530/530 [==============================] - 7s 13ms/step - loss: 0.0064 - accuracy: 0.9978\n",
      "Epoch 16/50\n",
      "530/530 [==============================] - 7s 13ms/step - loss: 0.0072 - accuracy: 0.9980\n",
      "Epoch 17/50\n",
      "530/530 [==============================] - 7s 13ms/step - loss: 0.0036 - accuracy: 0.9989\n",
      "Epoch 18/50\n",
      "530/530 [==============================] - 7s 13ms/step - loss: 0.0021 - accuracy: 0.9994\n",
      "Epoch 19/50\n",
      "530/530 [==============================] - 6s 12ms/step - loss: 0.0044 - accuracy: 0.9987\n",
      "Epoch 20/50\n",
      "530/530 [==============================] - 7s 12ms/step - loss: 0.0027 - accuracy: 0.9991\n",
      "Epoch 21/50\n",
      "530/530 [==============================] - 7s 13ms/step - loss: 0.0047 - accuracy: 0.9986\n",
      "Epoch 22/50\n",
      "530/530 [==============================] - 7s 12ms/step - loss: 0.0038 - accuracy: 0.9988\n",
      "Epoch 23/50\n",
      "530/530 [==============================] - 7s 12ms/step - loss: 0.0027 - accuracy: 0.9994\n",
      "Epoch 24/50\n",
      "530/530 [==============================] - 7s 13ms/step - loss: 0.0027 - accuracy: 0.9993\n",
      "Epoch 25/50\n",
      "530/530 [==============================] - 7s 13ms/step - loss: 0.0033 - accuracy: 0.9989\n",
      "Epoch 26/50\n",
      "530/530 [==============================] - 7s 13ms/step - loss: 0.0033 - accuracy: 0.9990\n",
      "Epoch 27/50\n",
      "530/530 [==============================] - 7s 13ms/step - loss: 0.0019 - accuracy: 0.9996\n",
      "Epoch 28/50\n",
      "530/530 [==============================] - 7s 13ms/step - loss: 0.0023 - accuracy: 0.9995\n",
      "Epoch 29/50\n",
      "530/530 [==============================] - 7s 13ms/step - loss: 0.0026 - accuracy: 0.9991\n",
      "Epoch 30/50\n",
      "530/530 [==============================] - 7s 13ms/step - loss: 0.0026 - accuracy: 0.9993\n",
      "Epoch 31/50\n",
      "530/530 [==============================] - 7s 13ms/step - loss: 0.0039 - accuracy: 0.9988\n",
      "Epoch 32/50\n",
      "530/530 [==============================] - 7s 13ms/step - loss: 0.0015 - accuracy: 0.9996\n",
      "Epoch 33/50\n",
      "530/530 [==============================] - 7s 14ms/step - loss: 0.0010 - accuracy: 0.9997\n",
      "Epoch 34/50\n",
      "530/530 [==============================] - 7s 13ms/step - loss: 7.8669e-04 - accuracy: 0.9998\n",
      "Epoch 35/50\n",
      "530/530 [==============================] - 7s 13ms/step - loss: 9.6030e-04 - accuracy: 0.9997\n",
      "Epoch 36/50\n",
      "530/530 [==============================] - 7s 13ms/step - loss: 7.4836e-04 - accuracy: 0.9998\n",
      "Epoch 37/50\n",
      "530/530 [==============================] - 7s 13ms/step - loss: 7.2397e-04 - accuracy: 0.9998\n",
      "Epoch 38/50\n",
      "530/530 [==============================] - 7s 13ms/step - loss: 0.0024 - accuracy: 0.9994\n",
      "Epoch 39/50\n",
      "530/530 [==============================] - 7s 13ms/step - loss: 0.0051 - accuracy: 0.9987\n",
      "Epoch 40/50\n",
      "530/530 [==============================] - 7s 13ms/step - loss: 0.0011 - accuracy: 0.9997\n",
      "Epoch 41/50\n",
      "530/530 [==============================] - 7s 13ms/step - loss: 9.0511e-04 - accuracy: 0.9997\n",
      "Epoch 42/50\n",
      "530/530 [==============================] - 7s 14ms/step - loss: 0.0021 - accuracy: 0.9993\n",
      "Epoch 43/50\n",
      "530/530 [==============================] - 7s 14ms/step - loss: 0.0011 - accuracy: 0.9997\n",
      "Epoch 44/50\n",
      "530/530 [==============================] - 7s 13ms/step - loss: 0.0032 - accuracy: 0.9992\n",
      "Epoch 45/50\n",
      "530/530 [==============================] - 7s 13ms/step - loss: 0.0017 - accuracy: 0.9995\n",
      "Epoch 46/50\n",
      "530/530 [==============================] - 7s 14ms/step - loss: 0.0010 - accuracy: 0.9997\n",
      "Epoch 47/50\n",
      "530/530 [==============================] - 7s 13ms/step - loss: 0.0043 - accuracy: 0.9991\n",
      "Epoch 48/50\n",
      "530/530 [==============================] - 7s 13ms/step - loss: 0.0016 - accuracy: 0.9995\n",
      "Epoch 49/50\n",
      "530/530 [==============================] - 7s 13ms/step - loss: 0.0012 - accuracy: 0.9996\n",
      "Epoch 50/50\n",
      "530/530 [==============================] - 7s 14ms/step - loss: 0.0013 - accuracy: 0.9996\n"
     ]
    },
    {
     "data": {
      "text/plain": [
       "<keras.src.callbacks.History at 0x106ab2290>"
      ]
     },
     "execution_count": 8,
     "metadata": {},
     "output_type": "execute_result"
    }
   ],
   "source": [
    "model.fit(X_train, y_train, epochs=50, batch_size=64, callbacks=[history])"
   ]
  },
  {
   "cell_type": "code",
   "execution_count": 15,
   "metadata": {},
   "outputs": [],
   "source": [
    "import json\n",
    "\n",
    "with open('../frontend/src/data/training.json', 'w') as f:\n",
    "  f.write(json.dumps(history.history))"
   ]
  },
  {
   "cell_type": "code",
   "execution_count": 10,
   "metadata": {},
   "outputs": [
    {
     "name": "stdout",
     "output_type": "stream",
     "text": [
      "265/265 [==============================] - 1s 3ms/step\n",
      "Percentage Correct: 96\n"
     ]
    }
   ],
   "source": [
    "import json\n",
    "\n",
    "predictions = model.predict(X_test)\n",
    "\n",
    "results = {\n",
    "  \"ai\": {\n",
    "    \"correct\": [],\n",
    "    \"incorrect\": []\n",
    "  },\n",
    "  \"human\": {\n",
    "    \"correct\": [],\n",
    "    \"incorrect\": []\n",
    "  }\n",
    "}\n",
    "for i in range(len(predictions)):\n",
    "    if y_test[i] == 1:\n",
    "      if predictions[i] > 0.5:\n",
    "        results[\"ai\"][\"correct\"].append(X_test[i])\n",
    "      else:\n",
    "        results[\"ai\"][\"incorrect\"].append(X_test[i])\n",
    "    if y_test[i] == 0:\n",
    "      if predictions[i] < 0.5:\n",
    "        results[\"human\"][\"correct\"].append(X_test[i])\n",
    "      else:\n",
    "        results[\"human\"][\"incorrect\"].append(X_test[i])\n",
    "\n",
    "print(f\"Percentage Correct: {round(((len(results['ai']['correct']) + len(results['human']['correct'])) / len(predictions)) * 100)}\")\n",
    "\n",
    "with open('../frontend/src/data/results.json', 'w') as f:\n",
    "  data_obj = {\n",
    "    \"ai\": {\"correct\": len(results[\"ai\"][\"correct\"]), \"incorrect\": len(results[\"ai\"][\"incorrect\"])},\n",
    "    \"human\": {\"correct\": len(results[\"human\"][\"correct\"]), \"incorrect\": len(results[\"human\"][\"incorrect\"])}\n",
    "  }\n",
    "  json.dump(data_obj, f)"
   ]
  },
  {
   "cell_type": "code",
   "execution_count": 21,
   "metadata": {},
   "outputs": [
    {
     "name": "stdout",
     "output_type": "stream",
     "text": [
      "AI Results: 95%\n",
      "Human Results: 96%\n"
     ]
    },
    {
     "data": {
      "text/plain": [
       "<BarContainer object of 4 artists>"
      ]
     },
     "execution_count": 21,
     "metadata": {},
     "output_type": "execute_result"
    },
    {
     "data": {
      "image/png": "[encoded data removed]",
      "text/plain": [
       "<Figure size 640x480 with 1 Axes>"
      ]
     },
     "metadata": {},
     "output_type": "display_data"
    }
   ],
   "source": [
    "import matplotlib.pyplot as plt\n",
    "import numpy as np\n",
    "\n",
    "x = np.array([\"AI Correct\", \"AI Incorrect\", \"Human Correct\", \"Human Incorrect\"])\n",
    "y = np.array([len(results[\"ai\"][\"correct\"]), len(results[\"ai\"][\"incorrect\"]), len(results[\"human\"][\"correct\"]), len(results[\"human\"][\"incorrect\"])])\n",
    "\n",
    "print(f\"AI Results: {round((len(results['ai']['correct']) / (len(results['ai']['correct']) + len(results['ai']['incorrect']))) * 100)}%\")\n",
    "print(f\"Human Results: {round((len(results['human']['correct']) / (len(results['human']['correct']) + len(results['human']['incorrect']))) * 100)}%\")\n",
    "plt.bar(x, y)"
   ]
  },
  {
   "cell_type": "code",
   "execution_count": null,
   "metadata": {},
   "outputs": [],
   "source": [
    "import spacy\n",
    "\n",
    "nlp = spacy.load(\"en_core_web_md\")\n",
    "\n",
    "def get_similarity(text1, text2):\n",
    "  doc1 = nlp(text1)\n",
    "  doc2 = nlp(text2)\n",
    "  return doc1.similarity(doc2)\n",
    "\n",
    "def get_average_similarity(text, text_list):\n",
    "  total = 0\n",
    "  for item in text_list:\n",
    "    total += get_similarity(text, item)\n",
    "  return total / len(text_list)\n",
    "\n",
    "def get_average_similarity_list(text_list1, text_list2):\n",
    "  total = 0\n",
    "  for item in text_list1:\n",
    "    total += get_average_similarity(item, text_list2)\n",
    "  return total / len(text_list1)\n",
    "\n",
    "print(f\"Average AI Correct Similarity: {get_average_similarity_list(results['ai']['correct'], results['ai']['correct'])}\")\n",
    "print(f\"Average AI Incorrect Similarity: {get_average_similarity_list(results['ai']['incorrect'], results['ai']['incorrect'])}\")\n",
    "print(f\"Average Human Correct Similarity: {get_average_similarity_list(results['human']['correct'], results['human']['correct'])}\")\n",
    "print(f\"Average Human Incorrect Similarity: {get_average_similarity_list(results['human']['incorrect'], results['human']['incorrect'])}\")"
   ]
  },
  {
   "cell_type": "code",
   "execution_count": 17,
   "metadata": {},
   "outputs": [
    {
     "name": "stdout",
     "output_type": "stream",
     "text": [
      "INFO:tensorflow:Assets written to: ../model/assets\n"
     ]
    },
    {
     "name": "stderr",
     "output_type": "stream",
     "text": [
      "INFO:tensorflow:Assets written to: ../model/assets\n"
     ]
    }
   ],
   "source": [
    "model.save('../model', save_format='tf')"
   ]
  }
 ],
 "metadata": {
  "kernelspec": {
   "display_name": "chat-gpt-detection-BkXwfeAg",
   "language": "python",
   "name": "python3"
  },
  "language_info": {
   "codemirror_mode": {
    "name": "ipython",
    "version": 3
   },
   "file_extension": ".py",
   "mimetype": "text/x-python",
   "name": "python",
   "nbconvert_exporter": "python",
   "pygments_lexer": "ipython3",
   "version": "3.11.3"
  },
  "orig_nbformat": 4
 },
 "nbformat": 4,
 "nbformat_minor": 2
}
